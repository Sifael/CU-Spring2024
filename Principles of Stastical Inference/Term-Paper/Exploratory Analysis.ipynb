{
 "cells": [
  {
   "cell_type": "markdown",
   "id": "b4b80d88-3427-4b64-8812-8a594d5d8d0c",
   "metadata": {},
   "source": [
    "### Exploratory Data Analysis\n",
    "\n",
    "This notebook is used for Exploring the dataset and implementing the final aspects of the term paper.\n"
   ]
  },
  {
   "cell_type": "code",
   "execution_count": 1,
   "id": "eedb25c9-a837-49ec-8c13-b0a7c6869c48",
   "metadata": {},
   "outputs": [],
   "source": [
    "import numpy as np\n",
    "import pandas as pd\n",
    "import matplotlib.pyplot as plt\n",
    "\n",
    "%matplotlib inline\n",
    "%config InlineBackend.figure_format = 'retina'"
   ]
  },
  {
   "cell_type": "code",
   "execution_count": 2,
   "id": "6d904935-b6f9-4f78-bad1-32ef3bc64064",
   "metadata": {},
   "outputs": [],
   "source": [
    "from datasets import load_dataset\n",
    "\n",
    "google_reviews = load_dataset(\"app_reviews\")"
   ]
  },
  {
   "cell_type": "code",
   "execution_count": 3,
   "id": "cfda2f81-55f8-4453-8f89-20df2b8668c5",
   "metadata": {},
   "outputs": [
    {
     "data": {
      "text/plain": [
       "DatasetDict({\n",
       "    train: Dataset({\n",
       "        features: ['package_name', 'review', 'date', 'star'],\n",
       "        num_rows: 288065\n",
       "    })\n",
       "})"
      ]
     },
     "execution_count": 3,
     "metadata": {},
     "output_type": "execute_result"
    }
   ],
   "source": [
    "google_reviews"
   ]
  },
  {
   "cell_type": "code",
   "execution_count": 5,
   "id": "5f6095ae-2530-47d2-adb3-e0b450a47231",
   "metadata": {},
   "outputs": [],
   "source": [
    "google_reviews = pd.DataFrame(google_reviews['train'])"
   ]
  },
  {
   "cell_type": "code",
   "execution_count": 9,
   "id": "5df2df93-e555-4534-84f6-68bacc450854",
   "metadata": {},
   "outputs": [],
   "source": [
    "google_reviews['date'] = pd.to_datetime(google_reviews['date'])"
   ]
  },
  {
   "cell_type": "code",
   "execution_count": 10,
   "id": "bd28cc5f-784c-4bfc-b66f-40b5a8793e59",
   "metadata": {},
   "outputs": [
    {
     "data": {
      "text/html": [
       "<div>\n",
       "<style scoped>\n",
       "    .dataframe tbody tr th:only-of-type {\n",
       "        vertical-align: middle;\n",
       "    }\n",
       "\n",
       "    .dataframe tbody tr th {\n",
       "        vertical-align: top;\n",
       "    }\n",
       "\n",
       "    .dataframe thead th {\n",
       "        text-align: right;\n",
       "    }\n",
       "</style>\n",
       "<table border=\"1\" class=\"dataframe\">\n",
       "  <thead>\n",
       "    <tr style=\"text-align: right;\">\n",
       "      <th></th>\n",
       "      <th>package_name</th>\n",
       "      <th>review</th>\n",
       "      <th>date</th>\n",
       "      <th>star</th>\n",
       "    </tr>\n",
       "  </thead>\n",
       "  <tbody>\n",
       "    <tr>\n",
       "      <th>18126</th>\n",
       "      <td>ru.gelin.android.weather.notification</td>\n",
       "      <td>It's what I wanted but it's in C° and not F°</td>\n",
       "      <td>2016-01-30</td>\n",
       "      <td>1</td>\n",
       "    </tr>\n",
       "    <tr>\n",
       "      <th>228046</th>\n",
       "      <td>com.google.android.gms</td>\n",
       "      <td>I can't open my other app.. Because of this !!...</td>\n",
       "      <td>2017-02-28</td>\n",
       "      <td>5</td>\n",
       "    </tr>\n",
       "    <tr>\n",
       "      <th>30552</th>\n",
       "      <td>net.nurik.roman.muzei</td>\n",
       "      <td>Perfect for what it does.</td>\n",
       "      <td>2015-06-07</td>\n",
       "      <td>5</td>\n",
       "    </tr>\n",
       "    <tr>\n",
       "      <th>29378</th>\n",
       "      <td>com.nolanlawson.logcat</td>\n",
       "      <td>Superb</td>\n",
       "      <td>2015-08-21</td>\n",
       "      <td>4</td>\n",
       "    </tr>\n",
       "    <tr>\n",
       "      <th>258439</th>\n",
       "      <td>com.google.android.gms</td>\n",
       "      <td>Consumes too much memory even sometimes makes ...</td>\n",
       "      <td>2017-04-09</td>\n",
       "      <td>3</td>\n",
       "    </tr>\n",
       "  </tbody>\n",
       "</table>\n",
       "</div>"
      ],
      "text/plain": [
       "                                 package_name  \\\n",
       "18126   ru.gelin.android.weather.notification   \n",
       "228046                 com.google.android.gms   \n",
       "30552                   net.nurik.roman.muzei   \n",
       "29378                  com.nolanlawson.logcat   \n",
       "258439                 com.google.android.gms   \n",
       "\n",
       "                                                   review       date  star  \n",
       "18126        It's what I wanted but it's in C° and not F° 2016-01-30     1  \n",
       "228046  I can't open my other app.. Because of this !!... 2017-02-28     5  \n",
       "30552                           Perfect for what it does. 2015-06-07     5  \n",
       "29378                                              Superb 2015-08-21     4  \n",
       "258439  Consumes too much memory even sometimes makes ... 2017-04-09     3  "
      ]
     },
     "execution_count": 10,
     "metadata": {},
     "output_type": "execute_result"
    }
   ],
   "source": [
    "google_reviews.sample(5)"
   ]
  },
  {
   "cell_type": "code",
   "execution_count": 11,
   "id": "4c4db321-af9c-4f07-801c-fbd0e67b467a",
   "metadata": {},
   "outputs": [
    {
     "data": {
      "text/plain": [
       "(Timestamp('2014-01-01 00:00:00'), Timestamp('2017-05-02 00:00:00'))"
      ]
     },
     "execution_count": 11,
     "metadata": {},
     "output_type": "execute_result"
    }
   ],
   "source": [
    "google_reviews.date.min(),  google_reviews.date.max()"
   ]
  },
  {
   "cell_type": "code",
   "execution_count": 13,
   "id": "866b2a1e-05a9-494f-ab41-57e0f0360839",
   "metadata": {},
   "outputs": [
    {
     "data": {
      "text/plain": [
       "395"
      ]
     },
     "execution_count": 13,
     "metadata": {},
     "output_type": "execute_result"
    }
   ],
   "source": [
    "len(google_reviews.package_name.unique())"
   ]
  },
  {
   "cell_type": "markdown",
   "id": "2af174c1-47b4-4fc9-b2a7-f44ec162c365",
   "metadata": {},
   "source": [
    "### Check for Null Values\n"
   ]
  },
  {
   "cell_type": "code",
   "execution_count": 15,
   "id": "4e1eeaa2-9749-416b-a1a7-b6bdf3ad55b5",
   "metadata": {},
   "outputs": [
    {
     "data": {
      "text/plain": [
       "package_name    0\n",
       "review          0\n",
       "date            0\n",
       "star            0\n",
       "dtype: int64"
      ]
     },
     "execution_count": 15,
     "metadata": {},
     "output_type": "execute_result"
    }
   ],
   "source": [
    "google_reviews.isnull().sum()"
   ]
  },
  {
   "cell_type": "code",
   "execution_count": null,
   "id": "b70fd388-6df4-44b6-bb6c-26b7bee5f6a5",
   "metadata": {},
   "outputs": [],
   "source": []
  }
 ],
 "metadata": {
  "kernelspec": {
   "display_name": "Python 3 (ipykernel)",
   "language": "python",
   "name": "python3"
  },
  "language_info": {
   "codemirror_mode": {
    "name": "ipython",
    "version": 3
   },
   "file_extension": ".py",
   "mimetype": "text/x-python",
   "name": "python",
   "nbconvert_exporter": "python",
   "pygments_lexer": "ipython3",
   "version": "3.12.2"
  }
 },
 "nbformat": 4,
 "nbformat_minor": 5
}
