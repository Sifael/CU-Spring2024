{
 "cells": [
  {
   "cell_type": "markdown",
   "id": "86c5de73-ee04-40d8-b28f-2bb6e993d675",
   "metadata": {},
   "source": [
    "### Assingment 5. \n",
    "\n",
    "**1. Find and Download a Data Set [5 Points ]**\n",
    "\n",
    "See the project guidelines on TEAMS for hints how to find and choose interesting data sets.The data set should have at least 2 features.  It does not have to be huge, but should contain atleast several hundred data points.  Describe the raw dataset you have chosen for the project in mathematical correct formalism, define the universe in which the data has been taken, the RV functions, and the data value spaces S. Describe whether you had to clean the data, whether there are any missing values. How did you deal with missing values? Show excerpts of the raw data.\n",
    "\n",
    "\n",
    "**2. Distribution, Moments [5 Points ]**\n",
    "\n",
    "Choose from this data set 1 numerical features where you have at least 100 measurements withresults in a discrete DVS   S (if it is a continous S, choose intervals with some bin width d, tomap it on a discrete S).\n",
    "a) Plot the corresponding histograms and the pmf of this discrete distribution.\n",
    "b) Calculate the mean value, the standard deviation, the skewness and the kurtosis of this dis-tribution.\n",
    "c) Check all kinds of distributions which we reviewed in the lecture.  To which kind of dis-tribution function does the pmf of the feature you choose resemble most closely?   \n",
    "Find thehyperparameters of that distribution function which minimise the MSE."
   ]
  },
  {
   "cell_type": "code",
   "execution_count": null,
   "id": "5727be1f-6732-4c5c-99ee-bbaf181575a0",
   "metadata": {},
   "outputs": [],
   "source": []
  }
 ],
 "metadata": {
  "kernelspec": {
   "display_name": "Python 3 (ipykernel)",
   "language": "python",
   "name": "python3"
  },
  "language_info": {
   "codemirror_mode": {
    "name": "ipython",
    "version": 3
   },
   "file_extension": ".py",
   "mimetype": "text/x-python",
   "name": "python",
   "nbconvert_exporter": "python",
   "pygments_lexer": "ipython3",
   "version": "3.12.2"
  }
 },
 "nbformat": 4,
 "nbformat_minor": 5
}
