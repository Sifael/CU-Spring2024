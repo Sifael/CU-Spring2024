{
 "cells": [
  {
   "cell_type": "code",
   "execution_count": 1,
   "id": "4a260f42-0a53-4d16-8f39-dc70f03c80b0",
   "metadata": {},
   "outputs": [
    {
     "name": "stdout",
     "output_type": "stream",
     "text": [
      "Collecting mnist\n",
      "  Downloading mnist-0.2.2-py2.py3-none-any.whl.metadata (1.6 kB)\n",
      "Requirement already satisfied: numpy in /Users/sifael/anaconda3/envs/machine_learning/lib/python3.12/site-packages (from mnist) (1.26.4)\n",
      "Downloading mnist-0.2.2-py2.py3-none-any.whl (3.5 kB)\n",
      "Installing collected packages: mnist\n",
      "Successfully installed mnist-0.2.2\n"
     ]
    }
   ],
   "source": [
    "!pip install mnist"
   ]
  },
  {
   "cell_type": "code",
   "execution_count": 4,
   "id": "355b2fe9-ac3a-42ef-a33d-72a8484738e7",
   "metadata": {},
   "outputs": [],
   "source": [
    "from mnist import loader"
   ]
  },
  {
   "cell_type": "code",
   "execution_count": 3,
   "id": "af2ffe65-571c-4230-8cc7-886498a25e2c",
   "metadata": {},
   "outputs": [
    {
     "name": "stdout",
     "output_type": "stream",
     "text": [
      "Collecting python-mnist\n",
      "  Downloading python_mnist-0.7-py2.py3-none-any.whl.metadata (3.5 kB)\n",
      "Downloading python_mnist-0.7-py2.py3-none-any.whl (9.6 kB)\n",
      "Installing collected packages: python-mnist\n",
      "Successfully installed python-mnist-0.7\n"
     ]
    }
   ],
   "source": [
    "!pip install python-mnist"
   ]
  },
  {
   "cell_type": "code",
   "execution_count": null,
   "id": "ae7d71b3-a1aa-4b68-a008-ed6c59404edd",
   "metadata": {},
   "outputs": [],
   "source": []
  }
 ],
 "metadata": {
  "kernelspec": {
   "display_name": "Python 3 (ipykernel)",
   "language": "python",
   "name": "python3"
  },
  "language_info": {
   "codemirror_mode": {
    "name": "ipython",
    "version": 3
   },
   "file_extension": ".py",
   "mimetype": "text/x-python",
   "name": "python",
   "nbconvert_exporter": "python",
   "pygments_lexer": "ipython3",
   "version": "3.12.2"
  }
 },
 "nbformat": 4,
 "nbformat_minor": 5
}
