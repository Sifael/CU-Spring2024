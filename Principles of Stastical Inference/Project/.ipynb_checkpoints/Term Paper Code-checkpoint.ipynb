{
 "cells": [
  {
   "cell_type": "markdown",
   "id": "adf7614d-3ba5-4339-a8cb-c4bc21c20566",
   "metadata": {},
   "source": [
    "## <font style=\"color:rgb(50,120,229)\"> Principles of Statistical Learning - Term Paper Code Implementation </font>\n",
    "\n",
    "Name: Sifael Sebastian Ndandala <br>\n",
    "Course: Principles of Statistical Learning <br>\n",
    "Date: May 28th, 2024\n",
    "\n",
    "#### Summary \n",
    "\n",
    "This notebook contains the implementation of the Final Term Paper for the Principles of Statistical Learning Course, Spring 2024. It is intended to reflect the work in the final term paper through the use of Python. The sections are broken down into the following parts:\n",
    "\n",
    "<br>\n",
    "\n",
    "\n",
    "#### <font style=\"color:rgb(50,120,229)\"> [1. Personal Motivation and Learning Objectives](Personal-Motivation-and-Learning-Objectives) </font>\n",
    "\n",
    "A personal articulation outlining the motivation to work on the dataset for the term paper. This includes a general description of the dataset including metadata, dimensions of the data and the eventual goal of the dataset for the project.\n",
    "\n",
    "\n",
    "#### <font style=\"color:rgb(50,120,229)\"> [2. Data Exploration](Personal-Motivation-and-Learning-Objectives) </font>\n",
    "\n",
    "Exploration of the dataset to provide an outline of the contents, shape and basic summaries that inform a strategy for analysis and feature extraction.\n",
    "\n",
    "#### <font style=\"color:rgb(50,120,229)\"> [3. Mathematical Formulism of the Dataset](Personal-Motivation-and-Learning-Objectives) </font>\n",
    "\n",
    "Exploration of the dataset to provide an outline of the contents, shape and basic summaries that inform a strategy for analysis and feature extraction.\n",
    "\n",
    "\n",
    "\n"
   ]
  },
  {
   "cell_type": "markdown",
   "id": "a94dbaaa-8a58-4d4d-ac19-15a23485b371",
   "metadata": {},
   "source": [
    "<br>\n",
    "\n",
    "### <font style=\"color:rgb(50,120,229)\"> 1. Personal Motivation  </font>\n",
    "\n",
    "Natural Language Processing (NLP) is a domain of significant relevance in both industry and academic research and is increasingly becoming indispensable in shaping how we communicate and interact with information and each other across many aspects of our lives. With advanced tools and platforms like ChatGPT, NLP technologies are enabling machines to understand, interpret, and respond to human languages in ways previously unimaginable. This transformative power, which is increasingly integrated into the technological tools we use every day, is poised to enhance our experiences, improve our productivity, and efficiency across all domains.\n",
    "\n",
    "For a Data Engineer, the importance of developing expertise in Natural Language Processing cannot be overstated. As data infrastructures grow more complex and the volume of unstructured text data increases, the ability to implement and manage NLP-centered solutions can greatly enhance a data engineer's capability to extract meaningful information from vast datasets. Furthermore, as businesses increasingly adopt NLP technologies, the role of a Data Engineer in implementing NLP solutions becomes more critical. This includes designing and optimizing data processes and analyses that are versatile, scalable, and efficient to meet the needs of this dynamic field.\n",
    "\n",
    "\n",
    "To that end, I have chosen to use the Financial Phrase Bank dataset. This dataset consists of 4840 sentences from English language financial news categorized by sentiment: `positive`, `neutral` and `negative`. The primary objective of this dataset is to develop a classification algorithm that can predict the sentiment given a news article. Such a classification task offers opportunities to develop features from text and build a model that can generate insights on future news content, for example, from Central Bank releases. The dataset is available through the curated Hugging Face Datasets Ecosystem: https://huggingface.co/datasets/financial_phrasebank "
   ]
  },
  {
   "cell_type": "markdown",
   "id": "a1ca2d50-f681-4601-8689-ce81b513b89b",
   "metadata": {},
   "source": [
    "<br>\n",
    "\n",
    "### <font style=\"color:rgb(50,120,229)\"> 1.2. Learning Objectives </font>\n",
    "\n",
    "The learning objectives for this project are closely aligned with my decision to select an NLP dataset. Specifically, there are four learning objectives:\n",
    "\n",
    "\n",
    "##### <font style=\"color:rgb(50,120,229)\"> 1.2.1. Deepen my Understanding of NLP </font>\n",
    "\n",
    "This project aims to deepen my understanding of NLP, focusing on mastering core concepts of feature generation such as BOW, TF-IDF, and Word Vectors, and their respective effectiveness in performing textual analysis. Furthermore, these foundational concepts are building blocks for more complex applications such as classification and text generation.\n",
    "\n",
    "\n",
    "##### <font style=\"color:rgb(50,120,229)\"> 1.2.2. Develop Computational Competencies in NLP Tools </font>\n",
    "\n",
    "Aligned with my first objective, I aim to use this project to develop computational competencies in NLP tools. NLP is notoriously computationally expensive and requires advanced programming concepts such as parallel and distributed computing to manage data processing, analysis, and machine learning. I intend to use tools such as PySpark, Dask, and core Python to efficiently handle large-scale data, leveraging their capabilities to optimize the performance of NLP models through parallel processing and streamlined data workflows.\n",
    "\n",
    "##### <font style=\"color:rgb(50,120,229)\"> 1.2.3. Application of Statistical Inference on Textual Data </font>\n",
    "\n",
    "\n",
    "Finally, I aim to apply the concepts developed in the Principles of Statistical Learning to develop classification algorithms that can predict the sentiment of a review for a given app based on the choice of words provided by a user. This will materialize concepts such as probability distributions and machine learning."
   ]
  },
  {
   "cell_type": "markdown",
   "id": "ec18ddb1-fac6-4881-9cf7-bc068bf20351",
   "metadata": {},
   "source": [
    "<br>\n",
    "\n",
    "### <font style=\"color:rgb(50,120,229)\"> 1.3. Data Acquisition </font>\n",
    "\n",
    "The Bank Financial Phrases dataset is a Polarity Sentiment dataset of curated sentences from english financial news articles. pertaining to all companies listed in OMX Helsinki. The dataset contains a collection of 4840 sentences, each categorized by the sentiment expressed in the sentence. To determine the sentiment, the phrases were meticulously chosen and annotated by 16 professionals possessing substantial background knowledge in financial markets. Sentiments within the dataset are classified based on the consensus of 5-8 annotators, who collectively determine whether the financial news phrase conveys a `positive`, `neutral`, or `negative` sentiment. This dataset was chosen in part due of it's niche application in the Economics and Financial industry. \n",
    "\n",
    "<br>\n",
    "\n",
    "#### <font style=\"color:rgb(50,120,229)\"> Dataset Metadata </font>\n",
    "\n",
    "The metadata of the dataset is provided below:\n",
    "\n",
    "```SQL\n",
    "sentence : A phrase from financial news of the english language\n",
    "label : The agreed upon sentiment by rates\n",
    "```"
   ]
  },
  {
   "cell_type": "markdown",
   "id": "ccca9f5a-f5ce-4702-bb21-a753a2d24fc8",
   "metadata": {},
   "source": [
    "<br>\n",
    "\n",
    "### <font style=\"color:rgb(50,120,229)\"> 2. Data Download and Exploration </font>\n",
    "\n",
    "##### <font style=\"color:rgb(50,120,229)\"> Downloading the Data </font>\n",
    "\n",
    "The dataset is publicly available through multiple sources that offer specific versions of the data. The comprehensive data is accessible via GitHub and the Hugging Face Dataset Library. Due to the size of the dataset, I opted to use the Hugging Face dataset to download the data directly into memory for efficient data processing and analysis.\n",
    "\n",
    "Github: https://www.kaggle.com/datasets/muniozdaniel0/distilbert-reddit-financial-phrasebank-allagree <br>\n",
    "Hugging Face: https://huggingface.co/datasets/financial_phrasebank \n",
    "\n",
    "<br>\n",
    "\n",
    "```python\n",
    "from datasets import load_dataset\n",
    "dataset = load_dataset(\"financial_phrasebank\", \"sentences_50agree\")\n",
    "```\n",
    "\n",
    "<br>\n",
    "The following section implements the data download and basic exploration to evaluate the nature of the data and develop a strategy for analysis.\n",
    "\n"
   ]
  },
  {
   "cell_type": "code",
   "execution_count": 1,
   "id": "b9d6c567-75e8-473a-bd46-8154799e39bc",
   "metadata": {},
   "outputs": [],
   "source": [
    "from datasets import load_dataset\n",
    "financial_news = load_dataset('financial_phrasebank', 'sentences_50agree')"
   ]
  },
  {
   "cell_type": "code",
   "execution_count": 2,
   "id": "56de04ee-ef3c-4d9b-a581-37ef1f01cb9e",
   "metadata": {},
   "outputs": [
    {
     "data": {
      "text/plain": [
       "DatasetDict({\n",
       "    train: Dataset({\n",
       "        features: ['sentence', 'label'],\n",
       "        num_rows: 4846\n",
       "    })\n",
       "})"
      ]
     },
     "execution_count": 2,
     "metadata": {},
     "output_type": "execute_result"
    }
   ],
   "source": [
    "financial_news"
   ]
  },
  {
   "cell_type": "code",
   "execution_count": 3,
   "id": "0331a632",
   "metadata": {},
   "outputs": [
    {
     "data": {
      "text/plain": [
       "{'sentence': ['According to Gran , the company has no plans to move all production to Russia , although that is where the company is growing .',\n",
       "  'Technopolis plans to develop in stages an area of no less than 100,000 square meters in order to host companies working in computer technologies and telecommunications , the statement said .',\n",
       "  'The international electronic industry company Elcoteq has laid off tens of employees from its Tallinn facility ; contrary to earlier layoffs the company contracted the ranks of its office workers , the daily Postimees reported .',\n",
       "  'With the new production plant the company would increase its capacity to meet the expected increase in demand and would improve the use of raw materials and therefore increase the production profitability .',\n",
       "  \"According to the company 's updated strategy for the years 2009-2012 , Basware targets a long-term net sales growth in the range of 20 % -40 % with an operating profit margin of 10 % -20 % of net sales .\"],\n",
       " 'label': [1, 1, 0, 2, 2]}"
      ]
     },
     "execution_count": 3,
     "metadata": {},
     "output_type": "execute_result"
    }
   ],
   "source": [
    "financial_news['train'][:5]"
   ]
  },
  {
   "cell_type": "code",
   "execution_count": 4,
   "id": "ac711588-b36b-4920-bfd8-2cd7dca043c8",
   "metadata": {},
   "outputs": [],
   "source": [
    "import numpy as np\n",
    "import pandas as pd \n",
    "import matplotlib.pyplot as plt\n",
    "\n",
    "%matplotlib inline\n",
    "%config InlineBackend.figure_format = 'retina'\n",
    "\n",
    "financial_news = pd.DataFrame(financial_news['train'])"
   ]
  },
  {
   "cell_type": "code",
   "execution_count": 5,
   "id": "101e9612",
   "metadata": {},
   "outputs": [
    {
     "data": {
      "text/plain": [
       "4846"
      ]
     },
     "execution_count": 5,
     "metadata": {},
     "output_type": "execute_result"
    }
   ],
   "source": [
    "len(financial_news)"
   ]
  },
  {
   "cell_type": "code",
   "execution_count": 6,
   "id": "363969f5",
   "metadata": {},
   "outputs": [
    {
     "data": {
      "text/html": [
       "<style type=\"text/css\">\n",
       "</style>\n",
       "<table id=\"T_777f6\">\n",
       "  <thead>\n",
       "    <tr>\n",
       "      <th id=\"T_777f6_level0_col0\" class=\"col_heading level0 col0\" >sentence</th>\n",
       "      <th id=\"T_777f6_level0_col1\" class=\"col_heading level0 col1\" >label</th>\n",
       "    </tr>\n",
       "  </thead>\n",
       "  <tbody>\n",
       "    <tr>\n",
       "      <td id=\"T_777f6_row0_col0\" class=\"data row0 col0\" >Net sales rose by 25.5 % year-on-year to EUR59 .6 m , as the number of chargers delivered went up by 41 % to 65.9 million pieces .</td>\n",
       "      <td id=\"T_777f6_row0_col1\" class=\"data row0 col1\" >2</td>\n",
       "    </tr>\n",
       "    <tr>\n",
       "      <td id=\"T_777f6_row1_col0\" class=\"data row1 col0\" >`` Following last year 's good profit development , we have entered the current year in a good position .</td>\n",
       "      <td id=\"T_777f6_row1_col1\" class=\"data row1 col1\" >2</td>\n",
       "    </tr>\n",
       "    <tr>\n",
       "      <td id=\"T_777f6_row2_col0\" class=\"data row2 col0\" >According to Vauramo , the plant 's lifting equipment is suitable for Asian and for some Chinese trucks .</td>\n",
       "      <td id=\"T_777f6_row2_col1\" class=\"data row2 col1\" >1</td>\n",
       "    </tr>\n",
       "    <tr>\n",
       "      <td id=\"T_777f6_row3_col0\" class=\"data row3 col0\" >Below are unaudited consolidated results for Aspocomp Group under IFRS reporting standards .</td>\n",
       "      <td id=\"T_777f6_row3_col1\" class=\"data row3 col1\" >1</td>\n",
       "    </tr>\n",
       "    <tr>\n",
       "      <td id=\"T_777f6_row4_col0\" class=\"data row4 col0\" >Growth was strongest in F-Secure 's operator ISPs , mobile operators and cable operators business .</td>\n",
       "      <td id=\"T_777f6_row4_col1\" class=\"data row4 col1\" >2</td>\n",
       "    </tr>\n",
       "  </tbody>\n",
       "</table>\n"
      ],
      "text/plain": [
       "<pandas.io.formats.style.Styler at 0x31ee38b60>"
      ]
     },
     "execution_count": 6,
     "metadata": {},
     "output_type": "execute_result"
    }
   ],
   "source": [
    "financial_news.sample(5).style.hide()"
   ]
  },
  {
   "cell_type": "code",
   "execution_count": 7,
   "id": "e0885cf0",
   "metadata": {},
   "outputs": [
    {
     "data": {
      "image/png": "[encoded data removed]",
      "text/plain": [
       "<Figure size 640x480 with 1 Axes>"
      ]
     },
     "metadata": {
      "image/png": {
       "height": 471,
       "width": 629
      }
     },
     "output_type": "display_data"
    }
   ],
   "source": [
    "import seaborn as sns\n",
    "\n",
    "sns.countplot(data=financial_news, x='label')\n",
    "plt.title('Frequency Distribution of Sentiment across Financial Statements')\n",
    "plt.tight_layout()\n",
    "plt.show();\n"
   ]
  },
  {
   "cell_type": "code",
   "execution_count": 8,
   "id": "ed92e21a",
   "metadata": {},
   "outputs": [
    {
     "data": {
      "text/plain": [
       "label\n",
       "1    2879\n",
       "2    1363\n",
       "0     604\n",
       "Name: count, dtype: int64"
      ]
     },
     "execution_count": 8,
     "metadata": {},
     "output_type": "execute_result"
    }
   ],
   "source": [
    "financial_news.label.value_counts()"
   ]
  },
  {
   "cell_type": "markdown",
   "id": "336808d3",
   "metadata": {},
   "source": [
    "<div class=\"alert alert-block alert-info\" style=\"background-color:white\">\n",
    "\n",
    "##### Notes\n",
    "\n",
    "1. The dataset has only two columns. Sentence: string and labels: categories.\n",
    "2. The frequency distribution of the dataset is unbalanced. `1(Neutral) :2879`, `2(Positive) : 1363`, `0 (Negative): 604`\n",
    "3. To generate useful information we must implement feature extraction techniques on the text. For example, sentence length, frequency of words.\n",
    "<div>"
   ]
  },
  {
   "cell_type": "markdown",
   "id": "9d54359e",
   "metadata": {},
   "source": [
    "To deepen the understanding of the mathematical framework underlying the analysis of the \"financial_phrasebank\" dataset, we can refine and expand the definitions and relationships among the sets and functions involved.\n",
    "\n",
    "### <font style=\"color:rgb(50,120,229)\">3.1 Universe of the Dataset.</font>\n",
    "\n",
    "The universe $\\Omega$ of the dataset encompasses all individual phrases or sentences extracted from global financial news articles. These phrases represent snippets of text specifically chosen based on their relevance to financial news, likely within a predetermined time frame and from designated sources specializing in financial news reporting.\n",
    "\n",
    "The formal definition of the universe is as follows:\n",
    "\n",
    "$$ \\Omega = \\{ \\text{All phrases from financial news articles along with their respective sentiments}\\} $$\n",
    "\n",
    "This universe includes every possible occurrence of financial news phrases paired with a sentiment classification (positive, negative, neutral) as determined by the context in which they were published.\n",
    "\n",
    "### <font style=\"color:rgb(50,120,229)\">3.2 Random Variable Function of the Dataset</font>\n",
    "\n",
    "We define two primary random variables associated with our dataset: one for the financial news phrases and another for the sentiments associated with these phrases. These variables map elements of the universe $\\Omega$ to specific subsets representing financial news and sentiment categories.\n",
    "\n",
    "Let:\n",
    "- $X_F : \\Omega \\rightarrow S_F$ where $S_F = \\{\\text{selected financial news phrases}\\}$ represents the set of all possible financial news phrases extracted from the dataset.\n",
    "- $X_S : \\Omega \\rightarrow S_S$ where $S_S = \\{\\text{positive, negative, neutral}\\}$ encapsulates the sentiment classifications available in the dataset.\n",
    "\n",
    "Mathematically, this can be represented as:\n",
    "\n",
    "$$ X_F(\\omega) = \\text{financial news phrase from } \\omega $$\n",
    "$$ X_S(\\omega) = \\text{sentiment of } \\omega $$\n",
    "\n",
    "Where $\\omega$ is an element of $\\Omega$.\n",
    "\n",
    "### <font style=\"color:rgb(50,120,229)\">3.3 Product RV and Data Value Space (DVS)</font>\n",
    "\n",
    "Combining these two random variables, we define a product random variable that pairs each financial news phrase with its corresponding sentiment. This composite random variable, denoted as $X$, integrates the outputs of $X_F$ and $X_S$.\n",
    "\n",
    "The formal definition of the product random variable $X$ is given by:\n",
    "\n",
    "$$ X = X_F \\otimes X_S $$\n",
    "\n",
    "This product operation results in a mapping from $\\Omega$ to a new set $S_I$, the Data Value Space, where each element is a tuple containing a financial news phrase and its sentiment:\n",
    "\n",
    "$$ S_I = S_F \\times S_S $$\n",
    "\n",
    "Here, $S_I$ is the Cartesian product of $S_F$ and $S_S$, thus:\n",
    "\n",
    "$$ S_I = \\{ (f, s) \\mid f \\in S_F \\text{ and } s \\in S_S \\} $$\n",
    "\n",
    "Each element of $S_I$ represents a possible pairing of a financial news phrase and a sentiment classification, effectively modeling the space of outcomes that our analysis will consider. This approach provides a comprehensive framework for the statistical analysis of sentiments associated with financial news phrases within the dataset."
   ]
  },
  {
   "cell_type": "markdown",
   "id": "a4339df2",
   "metadata": {},
   "source": [
    "<br>\n",
    "\n",
    "### 4. Descriptive Analysis\n",
    "\n",
    "Unlike conventional numeric datasets, textual data requires preprocessing and feature extraction to get a better understanding of its structure, content and how to perform analysis."
   ]
  },
  {
   "cell_type": "code",
   "execution_count": null,
   "id": "0a84957e-62f4-4a3e-bff3-7a18916318b8",
   "metadata": {},
   "outputs": [],
   "source": []
  }
 ],
 "metadata": {
  "kernelspec": {
   "display_name": "Python 3 (ipykernel)",
   "language": "python",
   "name": "python3"
  },
  "language_info": {
   "codemirror_mode": {
    "name": "ipython",
    "version": 3
   },
   "file_extension": ".py",
   "mimetype": "text/x-python",
   "name": "python",
   "nbconvert_exporter": "python",
   "pygments_lexer": "ipython3",
   "version": "3.12.2"
  }
 },
 "nbformat": 4,
 "nbformat_minor": 5
}
