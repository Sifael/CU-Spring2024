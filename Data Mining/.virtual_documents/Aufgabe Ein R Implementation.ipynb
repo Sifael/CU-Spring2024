


# loading tidy verse
library(tidyverse)
library(readxl)





data = read_excel('Data/UntidyData_Badly-Structured-Sales-Dat.xlsx')
head(data)





colnames(data)





column_names = c(('Segment'), rep( c('Consumer', 'Corporate', 'Home Office'), times = 1, each = 4))
column_names





data %>% select( -c('Consumer Total', 'Corporate Total', 'Home Office Total') ) #%>%     # Dropping total columns 
         # filter( !row_number() %in% c(1, nrow(.)) ) %>%                                 # Drops the last row containing Total values and the First Column
         # set_names(., paste(column_names, data[1, -c(6, 11, 16)], sep = ',' ) ) %>%     # Combine First Row and Newly Created Columns
         # pivot_longer( cols = !1 , names_to = 'OrderType', values_to = 'Value') %>%     # Implement Pivot Longer
         # separate(col = OrderType, into = c('OrderType', "Class"), sep = ",") %>%       # Separate Order Type and Class Columns
         # filter( !row_number() %in% c(1:12) ) %>%                                       # Remove Earlier Misclassification/Pivot Long
         # drop_na() %>%                                                                  # Drop NAs
         # set_names( c('OrderID', 'OrderType', 'Class', 'OrderValue') )                  # Set Column Names


install.packages('tidyverse')



